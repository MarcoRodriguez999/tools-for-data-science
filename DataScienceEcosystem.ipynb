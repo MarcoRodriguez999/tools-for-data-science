{
 "cells": [
  {
   "cell_type": "markdown",
   "id": "5fb3ba30-5e43-4391-94ce-0a43c7856ab7",
   "metadata": {},
   "source": [
    "Exercise 2) Create markdown cell with title of the notebook"
   ]
  },
  {
   "cell_type": "markdown",
   "id": "e37deae8-cef6-47c8-9c2a-13b5f0c3eff2",
   "metadata": {},
   "source": [
    "# DataScienceEcosystem"
   ]
  },
  {
   "cell_type": "markdown",
   "id": "d26b6ded-cd49-45fb-8dfa-38fc30df6494",
   "metadata": {},
   "source": [
    "Exercise 3 - Create a markdown cell for an introduction"
   ]
  },
  {
   "cell_type": "markdown",
   "id": "413853f8-1f18-41d8-a457-cbac3ff32665",
   "metadata": {},
   "source": [
    "In this notebook, Data Science Tools and Ecosystem are summarized."
   ]
  },
  {
   "cell_type": "markdown",
   "id": "e60d42a2-876f-40b0-8d66-0f1a6699f218",
   "metadata": {},
   "source": [
    "Exercise 4 - Create a markdown cell to list data science languages"
   ]
  },
  {
   "cell_type": "markdown",
   "id": "f2a12988-f6d9-42b3-85c0-1f3591e9af52",
   "metadata": {},
   "source": [
    "Some of the most popular languages used for Data Science are:\n",
    "1. R\n",
    "2. Python\n",
    "3. SQL\n",
    "4. Scala\n",
    "6. Java"
   ]
  },
  {
   "cell_type": "markdown",
   "id": "743a3fe1-16fd-4fa4-b556-64e19fe641d3",
   "metadata": {},
   "source": [
    "Exercise 5 - Create a markdown cell to list data science libraries"
   ]
  },
  {
   "cell_type": "markdown",
   "id": "d2b80bad-2835-45ee-b5a6-f9e8edb174ed",
   "metadata": {},
   "source": [
    "Some of the most commonly used libraries for Data Science are:\n",
    "\n",
    "1. Numpy\n",
    "2. Pandas\n",
    "3. SciKit-learn\n",
    "4. Matplotlib"
   ]
  },
  {
   "cell_type": "markdown",
   "id": "4bbf8b78-a36c-4fe7-ad33-7f794b769dac",
   "metadata": {},
   "source": [
    "Exercise 6 - Create a markdown cell with a table of Data Science tools"
   ]
  },
  {
   "cell_type": "markdown",
   "id": "858f72e3-967c-4884-bd7b-66049e4fe6c8",
   "metadata": {},
   "source": [
    "\n",
    "| Data Science Tools |\n",
    "| -------------|\n",
    "| MySQL |\n",
    "| Apache AirFlow |\n",
    "| JupyterLab |\n",
    "| RStudio|"
   ]
  },
  {
   "cell_type": "markdown",
   "id": "1a1105df-9daf-4966-a3d1-32be552d143a",
   "metadata": {},
   "source": [
    "Exercise 7 - Create a markdown cell introducing arithmetic expression examples"
   ]
  },
  {
   "cell_type": "markdown",
   "id": "13d04b5c-125d-4098-8a6f-d09d4faf8560",
   "metadata": {},
   "source": [
    "### Below are a few examples of evaluating arithmetic expressions in Python."
   ]
  },
  {
   "cell_type": "code",
   "execution_count": 1,
   "id": "a888ab31-c370-4b20-98f7-16aee471edf1",
   "metadata": {},
   "outputs": [
    {
     "data": {
      "text/plain": [
       "17"
      ]
     },
     "execution_count": 1,
     "metadata": {},
     "output_type": "execute_result"
    }
   ],
   "source": [
    "## This a simple arithmetic expression to mutiply then add integers\n",
    "(3*4)+5"
   ]
  },
  {
   "cell_type": "code",
   "execution_count": 2,
   "id": "6becb4df-cda4-4d89-9d55-f84327f0a9dd",
   "metadata": {},
   "outputs": [
    {
     "data": {
      "text/plain": [
       "3.3333333333333335"
      ]
     },
     "execution_count": 2,
     "metadata": {},
     "output_type": "execute_result"
    }
   ],
   "source": [
    "\n",
    "##This will convert 200 minutes to hours by diving by 60\n",
    "200/60"
   ]
  },
  {
   "cell_type": "markdown",
   "id": "a88055a7-a7db-43e7-b411-5a9af39169b7",
   "metadata": {},
   "source": [
    "Exercise 10 - Insert a markdown cell to list Objectives\n"
   ]
  },
  {
   "cell_type": "markdown",
   "id": "98d4a20e-b51b-4e1a-9914-f13ad527df80",
   "metadata": {},
   "source": [
    " **Objectives:**\n",
    " - Create a Markdown for an introduction on the notebook\n",
    " - Evaluate some Arithmetic expressions\n",
    " - Create a table to display some tools for Data Science\n",
    " - Create ordered list to display some Languages used in Data Science\n",
    " - Create an unordered list to display the objectives of the notebook\n",
    " "
   ]
  },
  {
   "cell_type": "markdown",
   "id": "7be5ea96-e0f0-4a44-8b4e-71ab52a1ed2a",
   "metadata": {},
   "source": [
    "## Author "
   ]
  },
  {
   "cell_type": "markdown",
   "id": "540be9d9-106d-4c98-8e6f-fcbf8b52abcb",
   "metadata": {},
   "source": [
    "Marco Rodriguez"
   ]
  }
 ],
 "metadata": {
  "kernelspec": {
   "display_name": "Python 3 (ipykernel)",
   "language": "python",
   "name": "python3"
  },
  "language_info": {
   "codemirror_mode": {
    "name": "ipython",
    "version": 3
   },
   "file_extension": ".py",
   "mimetype": "text/x-python",
   "name": "python",
   "nbconvert_exporter": "python",
   "pygments_lexer": "ipython3",
   "version": "3.12.8"
  }
 },
 "nbformat": 4,
 "nbformat_minor": 5
}
